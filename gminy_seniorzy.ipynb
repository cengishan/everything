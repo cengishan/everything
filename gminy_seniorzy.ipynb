{
 "cells": [
  {
   "cell_type": "code",
   "execution_count": 73,
   "metadata": {},
   "outputs": [],
   "source": [
    "import numpy as np\n",
    "import pandas as pd\n",
    "import shapefile as shp\n",
    "import matplotlib.pyplot as plt\n",
    "import seaborn as sns\n",
    "import geopandas as gpd"
   ]
  },
  {
   "cell_type": "code",
   "execution_count": 74,
   "metadata": {},
   "outputs": [],
   "source": [
    "shp_path = \"Gminy/Gminy.shp\"\n"
   ]
  },
  {
   "cell_type": "code",
   "execution_count": 75,
   "metadata": {},
   "outputs": [
    {
     "data": {
      "text/html": [
       "<div>\n",
       "<style scoped>\n",
       "    .dataframe tbody tr th:only-of-type {\n",
       "        vertical-align: middle;\n",
       "    }\n",
       "\n",
       "    .dataframe tbody tr th {\n",
       "        vertical-align: top;\n",
       "    }\n",
       "\n",
       "    .dataframe thead th {\n",
       "        text-align: right;\n",
       "    }\n",
       "</style>\n",
       "<table border=\"1\" class=\"dataframe\">\n",
       "  <thead>\n",
       "    <tr style=\"text-align: right;\">\n",
       "      <th></th>\n",
       "      <th>JPT_SJR_KO</th>\n",
       "      <th>JPT_KOD_JE</th>\n",
       "      <th>JPT_NAZWA_</th>\n",
       "      <th>JPT_ORGAN_</th>\n",
       "      <th>JPT_JOR_ID</th>\n",
       "      <th>WERSJA_OD</th>\n",
       "      <th>WERSJA_DO</th>\n",
       "      <th>WAZNY_OD</th>\n",
       "      <th>WAZNY_DO</th>\n",
       "      <th>JPT_KOD__1</th>\n",
       "      <th>...</th>\n",
       "      <th>JPT_KJ_I_1</th>\n",
       "      <th>JPT_KJ_I_2</th>\n",
       "      <th>JPT_OPIS</th>\n",
       "      <th>JPT_SPS_KO</th>\n",
       "      <th>ID_BUFOR_1</th>\n",
       "      <th>JPT_ID</th>\n",
       "      <th>JPT_KJ_I_3</th>\n",
       "      <th>Shape_Leng</th>\n",
       "      <th>Shape_Area</th>\n",
       "      <th>geometry</th>\n",
       "    </tr>\n",
       "  </thead>\n",
       "  <tbody>\n",
       "    <tr>\n",
       "      <td>0</td>\n",
       "      <td>GMI</td>\n",
       "      <td>2602042</td>\n",
       "      <td>NagÅowice</td>\n",
       "      <td>None</td>\n",
       "      <td>13031</td>\n",
       "      <td>2012-09-26</td>\n",
       "      <td>None</td>\n",
       "      <td>2012-09-26</td>\n",
       "      <td>None</td>\n",
       "      <td>None</td>\n",
       "      <td>...</td>\n",
       "      <td>2602042</td>\n",
       "      <td>None</td>\n",
       "      <td>None</td>\n",
       "      <td>UZG</td>\n",
       "      <td>0</td>\n",
       "      <td>826826</td>\n",
       "      <td>None</td>\n",
       "      <td>0.752667</td>\n",
       "      <td>0.014911</td>\n",
       "      <td>POLYGON ((20.13719 50.59346, 20.13708 50.59347...</td>\n",
       "    </tr>\n",
       "  </tbody>\n",
       "</table>\n",
       "<p>1 rows × 30 columns</p>\n",
       "</div>"
      ],
      "text/plain": [
       "  JPT_SJR_KO JPT_KOD_JE  JPT_NAZWA_ JPT_ORGAN_  JPT_JOR_ID   WERSJA_OD  \\\n",
       "0        GMI    2602042  NagÅowice       None       13031  2012-09-26   \n",
       "\n",
       "  WERSJA_DO    WAZNY_OD WAZNY_DO JPT_KOD__1  ... JPT_KJ_I_1 JPT_KJ_I_2  \\\n",
       "0      None  2012-09-26     None       None  ...    2602042       None   \n",
       "\n",
       "  JPT_OPIS  JPT_SPS_KO  ID_BUFOR_1  JPT_ID JPT_KJ_I_3 Shape_Leng Shape_Area  \\\n",
       "0     None         UZG           0  826826       None   0.752667   0.014911   \n",
       "\n",
       "                                            geometry  \n",
       "0  POLYGON ((20.13719 50.59346, 20.13708 50.59347...  \n",
       "\n",
       "[1 rows x 30 columns]"
      ]
     },
     "execution_count": 75,
     "metadata": {},
     "output_type": "execute_result"
    }
   ],
   "source": [
    "#sf = shp.Reader(shp_path)\n",
    "map_df = gpd.read_file(shp_path)\n",
    "map_df.head(1)"
   ]
  },
  {
   "cell_type": "code",
   "execution_count": 76,
   "metadata": {},
   "outputs": [
    {
     "data": {
      "text/plain": [
       "(2477, 30)"
      ]
     },
     "execution_count": 76,
     "metadata": {},
     "output_type": "execute_result"
    }
   ],
   "source": [
    "map_df.shape"
   ]
  },
  {
   "cell_type": "code",
   "execution_count": 77,
   "metadata": {},
   "outputs": [],
   "source": [
    "map_df['JPT_KOD_JE']=map_df['JPT_KOD_JE'].str[0:6]"
   ]
  },
  {
   "cell_type": "code",
   "execution_count": 78,
   "metadata": {},
   "outputs": [
    {
     "data": {
      "text/html": [
       "<div>\n",
       "<style scoped>\n",
       "    .dataframe tbody tr th:only-of-type {\n",
       "        vertical-align: middle;\n",
       "    }\n",
       "\n",
       "    .dataframe tbody tr th {\n",
       "        vertical-align: top;\n",
       "    }\n",
       "\n",
       "    .dataframe thead th {\n",
       "        text-align: right;\n",
       "    }\n",
       "</style>\n",
       "<table border=\"1\" class=\"dataframe\">\n",
       "  <thead>\n",
       "    <tr style=\"text-align: right;\">\n",
       "      <th></th>\n",
       "      <th>JPT_SJR_KO</th>\n",
       "      <th>JPT_KOD_JE</th>\n",
       "      <th>JPT_NAZWA_</th>\n",
       "      <th>JPT_ORGAN_</th>\n",
       "      <th>JPT_JOR_ID</th>\n",
       "      <th>WERSJA_OD</th>\n",
       "      <th>WERSJA_DO</th>\n",
       "      <th>WAZNY_OD</th>\n",
       "      <th>WAZNY_DO</th>\n",
       "      <th>JPT_KOD__1</th>\n",
       "      <th>...</th>\n",
       "      <th>JPT_KJ_I_1</th>\n",
       "      <th>JPT_KJ_I_2</th>\n",
       "      <th>JPT_OPIS</th>\n",
       "      <th>JPT_SPS_KO</th>\n",
       "      <th>ID_BUFOR_1</th>\n",
       "      <th>JPT_ID</th>\n",
       "      <th>JPT_KJ_I_3</th>\n",
       "      <th>Shape_Leng</th>\n",
       "      <th>Shape_Area</th>\n",
       "      <th>geometry</th>\n",
       "    </tr>\n",
       "  </thead>\n",
       "  <tbody>\n",
       "    <tr>\n",
       "      <td>0</td>\n",
       "      <td>GMI</td>\n",
       "      <td>260204</td>\n",
       "      <td>NagÅowice</td>\n",
       "      <td>None</td>\n",
       "      <td>13031</td>\n",
       "      <td>2012-09-26</td>\n",
       "      <td>None</td>\n",
       "      <td>2012-09-26</td>\n",
       "      <td>None</td>\n",
       "      <td>None</td>\n",
       "      <td>...</td>\n",
       "      <td>2602042</td>\n",
       "      <td>None</td>\n",
       "      <td>None</td>\n",
       "      <td>UZG</td>\n",
       "      <td>0</td>\n",
       "      <td>826826</td>\n",
       "      <td>None</td>\n",
       "      <td>0.752667</td>\n",
       "      <td>0.014911</td>\n",
       "      <td>POLYGON ((20.13719 50.59346, 20.13708 50.59347...</td>\n",
       "    </tr>\n",
       "  </tbody>\n",
       "</table>\n",
       "<p>1 rows × 30 columns</p>\n",
       "</div>"
      ],
      "text/plain": [
       "  JPT_SJR_KO JPT_KOD_JE  JPT_NAZWA_ JPT_ORGAN_  JPT_JOR_ID   WERSJA_OD  \\\n",
       "0        GMI     260204  NagÅowice       None       13031  2012-09-26   \n",
       "\n",
       "  WERSJA_DO    WAZNY_OD WAZNY_DO JPT_KOD__1  ... JPT_KJ_I_1 JPT_KJ_I_2  \\\n",
       "0      None  2012-09-26     None       None  ...    2602042       None   \n",
       "\n",
       "  JPT_OPIS  JPT_SPS_KO  ID_BUFOR_1  JPT_ID JPT_KJ_I_3 Shape_Leng Shape_Area  \\\n",
       "0     None         UZG           0  826826       None   0.752667   0.014911   \n",
       "\n",
       "                                            geometry  \n",
       "0  POLYGON ((20.13719 50.59346, 20.13708 50.59347...  \n",
       "\n",
       "[1 rows x 30 columns]"
      ]
     },
     "execution_count": 78,
     "metadata": {},
     "output_type": "execute_result"
    }
   ],
   "source": [
    "map_df.head(1)"
   ]
  },
  {
   "cell_type": "code",
   "execution_count": 79,
   "metadata": {},
   "outputs": [],
   "source": [
    "mieszkania_puste = pd.read_csv(\"gminy-seniorzy.csv\", sep=',',dtype=str) \n",
    "#mieszkania_puste.head()\n"
   ]
  },
  {
   "cell_type": "code",
   "execution_count": 80,
   "metadata": {},
   "outputs": [],
   "source": [
    "#mieszkania_puste[\"Gmina kod uk\"]=mieszkania_puste[\"Gmina kod uk\"].astype(str)+mieszkania_puste[\"Typ gminy kod\"].astype(str)\n",
    "mieszkania_puste[\"Gmina kod uk\"]=mieszkania_puste[\"Gmina kod uk\"].astype(str)"
   ]
  },
  {
   "cell_type": "code",
   "execution_count": 81,
   "metadata": {},
   "outputs": [
    {
     "data": {
      "text/html": [
       "<div>\n",
       "<style scoped>\n",
       "    .dataframe tbody tr th:only-of-type {\n",
       "        vertical-align: middle;\n",
       "    }\n",
       "\n",
       "    .dataframe tbody tr th {\n",
       "        vertical-align: top;\n",
       "    }\n",
       "\n",
       "    .dataframe thead th {\n",
       "        text-align: right;\n",
       "    }\n",
       "</style>\n",
       "<table border=\"1\" class=\"dataframe\">\n",
       "  <thead>\n",
       "    <tr style=\"text-align: right;\">\n",
       "      <th></th>\n",
       "      <th>Gmina kod uk</th>\n",
       "      <th>Gmina</th>\n",
       "      <th>Liczba zgłoszeń</th>\n",
       "    </tr>\n",
       "  </thead>\n",
       "  <tbody>\n",
       "    <tr>\n",
       "      <td>0</td>\n",
       "      <td>020101</td>\n",
       "      <td>Bolesławiec (miejska)</td>\n",
       "      <td>8</td>\n",
       "    </tr>\n",
       "    <tr>\n",
       "      <td>1</td>\n",
       "      <td>020102</td>\n",
       "      <td>Bolesławiec (wiejska)</td>\n",
       "      <td>1</td>\n",
       "    </tr>\n",
       "    <tr>\n",
       "      <td>2</td>\n",
       "      <td>020104</td>\n",
       "      <td>Nowogrodziec</td>\n",
       "      <td>1</td>\n",
       "    </tr>\n",
       "    <tr>\n",
       "      <td>3</td>\n",
       "      <td>020105</td>\n",
       "      <td>Osiecznica</td>\n",
       "      <td>2</td>\n",
       "    </tr>\n",
       "    <tr>\n",
       "      <td>4</td>\n",
       "      <td>020201</td>\n",
       "      <td>Bielawa</td>\n",
       "      <td>5</td>\n",
       "    </tr>\n",
       "  </tbody>\n",
       "</table>\n",
       "</div>"
      ],
      "text/plain": [
       "  Gmina kod uk                  Gmina Liczba zgłoszeń\n",
       "0       020101  Bolesławiec (miejska)               8\n",
       "1       020102  Bolesławiec (wiejska)               1\n",
       "2       020104           Nowogrodziec               1\n",
       "3       020105             Osiecznica               2\n",
       "4       020201                Bielawa               5"
      ]
     },
     "execution_count": 81,
     "metadata": {},
     "output_type": "execute_result"
    }
   ],
   "source": [
    "mieszkania_puste=mieszkania_puste.iloc[:,[0,1,3]]\n",
    "mieszkania_puste.head()"
   ]
  },
  {
   "cell_type": "code",
   "execution_count": 82,
   "metadata": {},
   "outputs": [
    {
     "data": {
      "text/plain": [
       "(1181, 33)"
      ]
     },
     "execution_count": 82,
     "metadata": {},
     "output_type": "execute_result"
    }
   ],
   "source": [
    "#mieszkania_puste=mieszkania_puste[['Nazwa','Wartosc','JPT_KOD_JE']]\n",
    "\n",
    "merged2 = map_df.merge(mieszkania_puste, how='inner', left_on=\"JPT_KOD_JE\", right_on=\"Gmina kod uk\")\n",
    "merged2.shape"
   ]
  },
  {
   "cell_type": "code",
   "execution_count": null,
   "metadata": {},
   "outputs": [
    {
     "name": "stderr",
     "output_type": "stream",
     "text": [
      "/home/cengu/anaconda3/lib/python3.7/site-packages/mapclassify/classifiers.py:138: UserWarning: Warning: Not enough unique values in array to form k classes\n",
      "  \"Warning: Not enough unique values in array to form k classes\", UserWarning\n",
      "/home/cengu/anaconda3/lib/python3.7/site-packages/mapclassify/classifiers.py:140: UserWarning: Warning: setting k to 4\n",
      "  Warn(\"Warning: setting k to %d\" % k_q, UserWarning)\n"
     ]
    }
   ],
   "source": [
    "\n",
    "\n",
    "# set the value column that will be visualised\n",
    "variable = 'Liczba zgłoszeń'# set the range for the choropleth values\n",
    "vmin = mieszkania_puste['Liczba zgłoszeń'].min()\n",
    "vmax = mieszkania_puste['Liczba zgłoszeń'].max()\n",
    " \n",
    "#reate figure and axes for Matplotlib\n",
    "fig, ax = plt.subplots(1, figsize=(30, 10))# remove the axis\n",
    "ax.axis('off')# add a title and annotation\n",
    "ax.set_title('budynki mieszkalne w gminie', fontdict={'fontsize': '25', 'fontweight' : '3'})\n",
    "ax.annotate('źródło: GUS', xy=(0.6, .05), xycoords='figure fraction', fontsize=12, color='#555555')# Create colorbar legend\n",
    "sm = plt.cm.ScalarMappable(cmap='Blues', norm=plt.Normalize(vmin=vmin, vmax=vmax))# empty array for the data range\n",
    "sm.set_array([]) # or alternatively sm._A = []. Not sure why this step is necessary, but many recommends it# add the colorbar to the figure\n",
    "fig.colorbar(sm)# create map\n",
    "merged2.plot(column=variable, cmap='Blues', linewidth=0.8, ax=ax, edgecolor='0.8', scheme='quantiles')\n"
   ]
  },
  {
   "cell_type": "code",
   "execution_count": null,
   "metadata": {},
   "outputs": [],
   "source": []
  }
 ],
 "metadata": {
  "kernelspec": {
   "display_name": "Python 3",
   "language": "python",
   "name": "python3"
  },
  "language_info": {
   "codemirror_mode": {
    "name": "ipython",
    "version": 3
   },
   "file_extension": ".py",
   "mimetype": "text/x-python",
   "name": "python",
   "nbconvert_exporter": "python",
   "pygments_lexer": "ipython3",
   "version": "3.7.4"
  }
 },
 "nbformat": 4,
 "nbformat_minor": 2
}
